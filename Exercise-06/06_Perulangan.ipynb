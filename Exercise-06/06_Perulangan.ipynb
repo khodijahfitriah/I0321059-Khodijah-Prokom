{
 "cells": [
  {
   "cell_type": "markdown",
   "metadata": {},
   "source": [
    "***\n",
    "<h1 align=\"center\">Exercise 06</h1>\n",
    " \n",
    "***\n",
    "## While Loop\n",
    "## Exercise 6.1\n",
    "isilah bagian rumpang berikut. xx diganti tanggal lahir dan yy diganti menjadi bulan lahir. tandanya menyesuaikan yang lebih besar."
   ]
  },
  {
   "cell_type": "code",
   "execution_count": 6,
   "metadata": {},
   "outputs": [],
   "source": [
    "#menentukan banyak pengulangan\n",
    "n = 4\n",
    "\n",
    "#melakukan pengulangan\n",
    "i = 12\n",
    "\n",
    "while i <= n :\n",
    "    print (\"Semangat Belajar\")\n",
    "    #diisi motto kalian\n",
    "    i = i + 1 # sesuaikan dengan atas agar fungsi perulangan dapat berhenti\n"
   ]
  },
  {
   "cell_type": "markdown",
   "metadata": {},
   "source": [
    "## Exercise 6.2\n",
    "\n",
    "Buatlah code seperti yang dicontohkan pada modul agar user dapat menginputkan sendiri jumlah n yang diinginkan"
   ]
  },
  {
   "cell_type": "code",
   "execution_count": 7,
   "metadata": {},
   "outputs": [
    {
     "name": "stdout",
     "output_type": "stream",
     "text": [
      "5\n",
      "6\n",
      "7\n",
      "8\n",
      "9\n",
      "10\n",
      "11\n",
      "12\n"
     ]
    }
   ],
   "source": [
    "#Kerjakan disini\n",
    "n= int(input(\"input nilai n:\"))\n",
    "\n",
    "i = 5\n",
    "\n",
    "while i <= n :\n",
    "    print(i)\n",
    "    i=i+1"
   ]
  },
  {
   "cell_type": "markdown",
   "metadata": {},
   "source": [
    "## Excercise 6.3\n",
    "\n",
    "isilah xx, yy, dan tanda rumpang seperti pada exercise 6.1\n"
   ]
  },
  {
   "cell_type": "code",
   "execution_count": 13,
   "metadata": {},
   "outputs": [],
   "source": [
    "#melakukan pengulangan\n",
    "i = 4\n",
    "\n",
    "while i> 12 :\n",
    "    print (\"Baris ke-%d : Laskar Pelangi\"%i)\n",
    "    if i == 16 :\n",
    "        print (\"Saya membatasi hingga 25 saja\")\n",
    "        break\n",
    "    #isi titik-titik dengan judul film favorit kalian\n",
    "    i = i + 1 "
   ]
  },
  {
   "cell_type": "markdown",
   "metadata": {},
   "source": [
    "## FOR LOOP\n",
    "\n",
    "## Exercise 6.4\n",
    "\n",
    "munculkan 3 dari 7 elemen yang berada di dalam list1 dan list2\n"
   ]
  },
  {
   "cell_type": "code",
   "execution_count": 14,
   "metadata": {},
   "outputs": [
    {
     "name": "stdout",
     "output_type": "stream",
     "text": [
      "1 Bakso Jakata\n",
      "2 Cimol Bali\n",
      "3 Ayam Goreng Lampung\n"
     ]
    }
   ],
   "source": [
    "list1 = [\"Bakso\",\"Cimol\",\"Ayam Goreng\",\"Nasi Goreng\",\"Mie Ayam\",\"Cilor\",\"Maklor\"] #masukkan 7 list makanan favorit kalian\n",
    "list2 = [\"Jakata\",\"Bali\",\"Lampung\",\"Malang\",\"Surakarta\",\"Solo\",\"Tawangmangu\"] #masukkan 7 list kota favorit kalian\n",
    "\n",
    "for i in range(0,3) :\n",
    "    print(i+1,list1[i] ,list2[i])"
   ]
  },
  {
   "cell_type": "markdown",
   "metadata": {},
   "source": [
    "## Perulangan Bersarang\n",
    "\n",
    "## Exercise 6.5"
   ]
  },
  {
   "cell_type": "code",
   "execution_count": 19,
   "metadata": {},
   "outputs": [
    {
     "name": "stdout",
     "output_type": "stream",
     "text": [
      "126 144 162 180 198 216 234 252 270 288 306 324 \n",
      "119 136 153 170 187 204 221 238 255 272 289 \n",
      "112 128 144 160 176 192 208 224 240 256 \n",
      "105 120 135 150 165 180 195 210 225 \n",
      "98 112 126 140 154 168 182 196 \n",
      "91 104 117 130 143 156 169 \n",
      "84 96 108 120 132 144 \n",
      "77 88 99 110 121 \n",
      "70 80 90 100 \n",
      "63 72 81 \n",
      "56 64 \n",
      "49 \n"
     ]
    }
   ],
   "source": [
    "i = 18\n",
    "while i >=7:\n",
    "    j = 7\n",
    "    while j<=i:\n",
    "        print(\"%d \" % (i*j), end = '')\n",
    "        j = j + 1\n",
    "    print()\n",
    "    i-=1"
   ]
  },
  {
   "cell_type": "markdown",
   "metadata": {},
   "source": [
    "## Pernyataan Loncat\n",
    "\n",
    "## Exercise 6.\n",
    "\n",
    "Buatlah fungsi berikut agar muncul angka hingga berhenti sesuai dengan nilai qq\n",
    "qq = angka favorit kalian\n",
    "pp>qq"
   ]
  },
  {
   "cell_type": "code",
   "execution_count": 20,
   "metadata": {},
   "outputs": [
    {
     "name": "stdout",
     "output_type": "stream",
     "text": [
      "01234567891011"
     ]
    }
   ],
   "source": [
    "for i in range(22):\n",
    "    print(i,end='')\n",
    "    if i == 11:\n",
    "        break"
   ]
  },
  {
   "cell_type": "markdown",
   "metadata": {},
   "source": [
    "***\n",
    "<h1 align=\"center\">WELL DONE</h1>\n",
    " \n",
    "***"
   ]
  }
 ],
 "metadata": {
  "interpreter": {
   "hash": "cd08f94adcf3cbae37fe85286256f4c2a10455ca9094fd053e9f3d3f09647223"
  },
  "kernelspec": {
   "display_name": "Python 3.9.7 64-bit",
   "language": "python",
   "name": "python3"
  },
  "language_info": {
   "codemirror_mode": {
    "name": "ipython",
    "version": 3
   },
   "file_extension": ".py",
   "mimetype": "text/x-python",
   "name": "python",
   "nbconvert_exporter": "python",
   "pygments_lexer": "ipython3",
   "version": "3.10.2"
  },
  "orig_nbformat": 4
 },
 "nbformat": 4,
 "nbformat_minor": 2
}
